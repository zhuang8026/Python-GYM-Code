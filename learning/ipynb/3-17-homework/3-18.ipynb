{
 "cells": [
  {
   "cell_type": "markdown",
   "metadata": {},
   "source": [
    "## 物件導向作業\n",
    "\n",
    "* 請依據物件導向課程單元中的範例，建立一個Employee父類別，與課程單元相同有name, age屬性，並且有一個抽象方法getSalary(bonus)。\n",
    "* Employee類別中的getSalary(bonus)是計算出薪水總和的方法。\n",
    "* 請建立Manager和Teacher兩個子類別，分別繼承於父類別Employee。\n",
    "* Manager的底薪是45000元，Teacher的底薪是40000元，請在實作時將底薪加上bonus\n",
    "\n",
    "最後請建立一個老師Mary和主管John的物件，Mary的獎金是2000元，John的獎金是3000元，請各自呼叫getSalary的函式確認結果。"
   ]
  },
  {
   "cell_type": "code",
   "execution_count": 1,
   "metadata": {},
   "outputs": [
    {
     "name": "stdout",
     "output_type": "stream",
     "text": [
      "48000\n",
      "42000\n"
     ]
    }
   ],
   "source": [
    "from abc import ABCMeta, abstractmethod\n",
    "\n",
    "# 抽象類別\n",
    "class Employee(metaclass = ABCMeta):\n",
    "    def __init__(self, name, age):\n",
    "        self.name = name\n",
    "        self.age = age\n",
    "    # 抽象方法\n",
    "    @abstractmethod\n",
    "    def getSalary(bonus):\n",
    "        pass\n",
    "\n",
    "#子類別 繼承 抽象類別\n",
    "class Manager(Employee):\n",
    "    def __init__(self, name, age):\n",
    "        # 繼承抽象屬性\n",
    "        super().__init__(name, age)\n",
    "    # 繼承抽象方法\n",
    "    def getSalary(self, bonus): # 注意：self 是實例才有的參數\n",
    "        print(45000+bonus)\n",
    "\n",
    "#子類別 繼承 抽象類別\n",
    "class Teacher(Employee):\n",
    "    def __init__(self,name, age):\n",
    "        # 繼承抽象屬性\n",
    "        super().__init__(name, age)\n",
    "    # 繼承抽象方法\n",
    "    def getSalary(self, bonus):\n",
    "        print(40000+bonus)\n",
    "    \n",
    "\n",
    "man = Manager('John', '40') # name = John, age = 40\n",
    "man.getSalary(3000) # 使用父類別的抽象方法\n",
    "\n",
    "tea = Teacher('Mary', '36')\n",
    "tea.getSalary(2000)"
   ]
  },
  {
   "cell_type": "code",
   "execution_count": null,
   "metadata": {},
   "outputs": [],
   "source": []
  }
 ],
 "metadata": {
  "kernelspec": {
   "display_name": "Python 3",
   "language": "python",
   "name": "python3"
  },
  "language_info": {
   "codemirror_mode": {
    "name": "ipython",
    "version": 3
   },
   "file_extension": ".py",
   "mimetype": "text/x-python",
   "name": "python",
   "nbconvert_exporter": "python",
   "pygments_lexer": "ipython3",
   "version": "3.9.16"
  }
 },
 "nbformat": 4,
 "nbformat_minor": 2
}
