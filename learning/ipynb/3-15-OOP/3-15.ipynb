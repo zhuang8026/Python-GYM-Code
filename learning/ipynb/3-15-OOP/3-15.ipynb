{
 "cells": [
  {
   "cell_type": "markdown",
   "metadata": {},
   "source": [
    "## 物件導向\n",
    "* 建立一個「人」的類別\n",
    "* 有名字和年齡\n",
    "* 會say hello"
   ]
  },
  {
   "cell_type": "code",
   "execution_count": 6,
   "metadata": {},
   "outputs": [
    {
     "name": "stdout",
     "output_type": "stream",
     "text": [
      "Hello, I am Ryan\n",
      "Hello Mary.\n"
     ]
    }
   ],
   "source": [
    "# class 類別\n",
    "class Person:\n",
    "    # 初始化\n",
    "    # 寫 “__init__” 會自動執行，不需要另外呼叫？\n",
    "        # -> yes\n",
    "    def __init__(self, name, age): \n",
    "        self.name = name\n",
    "        self.age = age\n",
    "\n",
    "    def sayHello(self):\n",
    "        print('Hello, I am %s' % self.name)\n",
    "\n",
    "    # 靜態方法\n",
    "    @staticmethod\n",
    "    def response(yourName):\n",
    "        print('Hello %s.' % yourName)\n",
    "\n",
    "per = Person('Ryan', '18') # 建立物件\n",
    "per.age\n",
    "per.sayHello() # 呼叫方法\n",
    "Person.response('Mary') # 呼叫靜態方法"
   ]
  },
  {
   "cell_type": "code",
   "execution_count": null,
   "metadata": {},
   "outputs": [],
   "source": []
  }
 ],
 "metadata": {
  "kernelspec": {
   "display_name": "Python 3",
   "language": "python",
   "name": "python3"
  },
  "language_info": {
   "codemirror_mode": {
    "name": "ipython",
    "version": 3
   },
   "file_extension": ".py",
   "mimetype": "text/x-python",
   "name": "python",
   "nbconvert_exporter": "python",
   "pygments_lexer": "ipython3",
   "version": "3.9.16"
  }
 },
 "nbformat": 4,
 "nbformat_minor": 2
}
