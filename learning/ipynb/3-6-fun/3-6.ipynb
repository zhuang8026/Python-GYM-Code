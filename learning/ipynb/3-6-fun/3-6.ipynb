{
 "cells": [
  {
   "cell_type": "markdown",
   "metadata": {},
   "source": [
    "## 自定義函式\n",
    "\n",
    "* 使用def關鍵字定義函式\n",
    "<pre><code>def 函式名稱(參數1, 參數2):\n",
    "       函式中執行的程式碼</code></pre>\n",
    "       \n",
    "* Python不支援重載(Overload)\n",
    "\n",
    "\n",
    "* 輸入參數預設值\n",
    "<pre><code>def 函式名稱(參數名稱=預設值):\n",
    "    函式中執行的程式碼\n",
    "</code></pre>\n",
    "\n",
    "* 輸入多個不確定數量的參數\n",
    "<pre><code>def 函式名稱(*參數):\n",
    "    函式中執行的程式碼\n",
    "</code></pre>\n"
   ]
  },
  {
   "cell_type": "code",
   "execution_count": 3,
   "metadata": {},
   "outputs": [
    {
     "name": "stdout",
     "output_type": "stream",
     "text": [
      "Hello Ryan, you are 18 years old.\n",
      "Hello William, you are 19 years old.\n"
     ]
    }
   ],
   "source": [
    "def sayHello(name = 'Merry', age = '99'):\n",
    "    print('Hello ' + name + ', you are ' + age + ' years old.' )\n",
    "\n",
    "sayHello(age = '18', name = 'Ryan')\n",
    "sayHello('William', '19')"
   ]
  },
  {
   "cell_type": "code",
   "execution_count": 4,
   "metadata": {},
   "outputs": [
    {
     "name": "stdout",
     "output_type": "stream",
     "text": [
      "('a', 'b', 'c')\n"
     ]
    }
   ],
   "source": [
    "def foo(*tmp):\n",
    "    print(tmp)\n",
    "\n",
    "foo('a', 'b', 'c')"
   ]
  },
  {
   "cell_type": "code",
   "execution_count": null,
   "metadata": {},
   "outputs": [],
   "source": []
  }
 ],
 "metadata": {
  "kernelspec": {
   "display_name": "Python 3",
   "language": "python",
   "name": "python3"
  },
  "language_info": {
   "codemirror_mode": {
    "name": "ipython",
    "version": 3
   },
   "file_extension": ".py",
   "mimetype": "text/x-python",
   "name": "python",
   "nbconvert_exporter": "python",
   "pygments_lexer": "ipython3",
   "version": "3.9.16"
  }
 },
 "nbformat": 4,
 "nbformat_minor": 2
}
