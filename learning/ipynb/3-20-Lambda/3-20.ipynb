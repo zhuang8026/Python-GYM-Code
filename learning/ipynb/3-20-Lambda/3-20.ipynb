{
 "cells": [
  {
   "cell_type": "markdown",
   "metadata": {},
   "source": [
    "## Lambda\n",
    "\n",
    "* Python 中函式是物件，基本上是用def定義，但也可以用lambda運算式定義函式\n",
    "* 語法是 lambda input1, input2,... : expression\n",
    "* lambda不能夠有區塊\n",
    "\n",
    "#### 之前BMI函式示範"
   ]
  },
  {
   "cell_type": "code",
   "execution_count": 6,
   "metadata": {},
   "outputs": [
    {
     "data": {
      "text/plain": [
       "21.224489795918366"
      ]
     },
     "execution_count": 6,
     "metadata": {},
     "output_type": "execute_result"
    }
   ],
   "source": [
    "def bmi(w, h):\n",
    "    return w/h**2\n",
    "bmi(65,1.75)"
   ]
  },
  {
   "cell_type": "code",
   "execution_count": 7,
   "metadata": {},
   "outputs": [
    {
     "data": {
      "text/plain": [
       "21.224489795918366"
      ]
     },
     "execution_count": 7,
     "metadata": {},
     "output_type": "execute_result"
    }
   ],
   "source": [
    "bmi2 = lambda w, h: w/h**2\n",
    "bmi2(65, 1.75)"
   ]
  },
  {
   "cell_type": "markdown",
   "metadata": {},
   "source": [
    "#### Lambda中條件判斷\n",
    "\n",
    "    if 條件1:\n",
    "        執行程式1\n",
    "    elif 條件2:\n",
    "        執行程式2\n",
    "    else:\n",
    "        執行程式3\n",
    "        \n",
    "#### lambda x: 執行程式1 if 條件1 else 執行程式2 if 條件2 else 语執行程式3 \n",
    "範例：判斷BMI值小於18.5過輕，超過24過重，其他則是正常"
   ]
  },
  {
   "cell_type": "code",
   "execution_count": 9,
   "metadata": {},
   "outputs": [
    {
     "data": {
      "text/plain": [
       "'體重過重'"
      ]
     },
     "execution_count": 9,
     "metadata": {},
     "output_type": "execute_result"
    }
   ],
   "source": [
    "res = lambda x:'體重過輕' if x<18.5 else '體重過重' if x>=24 else '體重正常'\n",
    "res(bmi2(80, 1.75))"
   ]
  },
  {
   "cell_type": "markdown",
   "metadata": {},
   "source": [
    "### filter函式\n",
    "\n",
    "* 過濾序列，移除掉不符合條件的元素，並且返回一個迭代器\n",
    "* filter(函式, 序列) \n",
    "* 範例：將序列[8, 9, 10, 11, 12]過濾小於10的元素後回傳"
   ]
  },
  {
   "cell_type": "code",
   "execution_count": 10,
   "metadata": {},
   "outputs": [
    {
     "name": "stdout",
     "output_type": "stream",
     "text": [
      "[10, 11, 12]\n"
     ]
    }
   ],
   "source": [
    "lst1 = [8, 9, 10, 11, 12]\n",
    "f = filter(lambda x:x>=10, lst1)\n",
    "print(list(f))"
   ]
  },
  {
   "cell_type": "markdown",
   "metadata": {},
   "source": [
    "### map函式\n",
    "* 依據所提供的函式對序列做映射\n",
    "* map(函式, 序列)\n",
    "* 範例：將序列[1, 2, 3]各加上後回傳"
   ]
  },
  {
   "cell_type": "code",
   "execution_count": 11,
   "metadata": {},
   "outputs": [
    {
     "name": "stdout",
     "output_type": "stream",
     "text": [
      "[2, 3, 4]\n"
     ]
    }
   ],
   "source": [
    "lst2 = [1,2,3]\n",
    "m = map(lambda x:x+1, lst2)\n",
    "print(list(m))"
   ]
  },
  {
   "cell_type": "code",
   "execution_count": null,
   "metadata": {},
   "outputs": [],
   "source": []
  }
 ],
 "metadata": {
  "kernelspec": {
   "display_name": "Python 3",
   "language": "python",
   "name": "python3"
  },
  "language_info": {
   "codemirror_mode": {
    "name": "ipython",
    "version": 3
   },
   "file_extension": ".py",
   "mimetype": "text/x-python",
   "name": "python",
   "nbconvert_exporter": "python",
   "pygments_lexer": "ipython3",
   "version": "3.7.1"
  }
 },
 "nbformat": 4,
 "nbformat_minor": 2
}
