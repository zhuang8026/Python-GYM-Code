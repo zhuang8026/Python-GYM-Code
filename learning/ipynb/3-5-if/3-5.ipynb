{
 "cells": [
  {
   "cell_type": "markdown",
   "metadata": {},
   "source": [
    "## 運算子和條件判斷式\n",
    "\n",
    "### 運算子\n",
    "\\+ - * /"
   ]
  },
  {
   "cell_type": "code",
   "execution_count": null,
   "metadata": {},
   "outputs": [
    {
     "data": {
      "text/plain": [
       "9"
      ]
     },
     "execution_count": 5,
     "metadata": {},
     "output_type": "execute_result"
    }
   ],
   "source": [
    "3**2"
   ]
  },
  {
   "cell_type": "markdown",
   "metadata": {},
   "source": [
    "### 關係運算\n",
    "* \\>, <, =, >=, <=, ==, !=\n",
    "* True, False"
   ]
  },
  {
   "cell_type": "code",
   "execution_count": 11,
   "metadata": {},
   "outputs": [
    {
     "data": {
      "text/plain": [
       "False"
      ]
     },
     "execution_count": 11,
     "metadata": {},
     "output_type": "execute_result"
    }
   ],
   "source": [
    "a = 'test1'\n",
    "b = 'test2'\n",
    "a == b"
   ]
  },
  {
   "cell_type": "markdown",
   "metadata": {},
   "source": [
    "### 邏輯運算\n",
    "* and (皆為True，則回傳True)\n",
    "* or (其中一項為True，則回傳True)\n",
    "* not (將布林值做相反)"
   ]
  },
  {
   "cell_type": "code",
   "execution_count": 4,
   "metadata": {},
   "outputs": [
    {
     "name": "stdout",
     "output_type": "stream",
     "text": [
      "False\n",
      "False\n",
      "True\n"
     ]
    }
   ],
   "source": [
    "a = True\n",
    "print(not a)\n",
    "print(False and True)\n",
    "print(False or True)"
   ]
  },
  {
   "cell_type": "markdown",
   "metadata": {},
   "source": [
    "### IF-ELSE\n",
    "    if(條件式1):\n",
    "        條件式1為True則執行該區塊\n",
    "    elif(條件式2):\n",
    "        條件式2為True則執行該區塊\n",
    "    else:\n",
    "        否則執行此區塊"
   ]
  },
  {
   "cell_type": "code",
   "execution_count": 6,
   "metadata": {},
   "outputs": [
    {
     "name": "stdout",
     "output_type": "stream",
     "text": [
      "a小於0\n"
     ]
    }
   ],
   "source": [
    "a = -1\n",
    "if a > 0:\n",
    "    print('a大於0')\n",
    "elif a == 0:\n",
    "    print('a等於0')\n",
    "else:\n",
    "    print('a小於0')"
   ]
  },
  {
   "cell_type": "markdown",
   "metadata": {},
   "source": [
    "### 測量你的BMI值，確認你的體重是否正常？\n",
    "* BMI公式：體重(公斤) / 身高(公尺)的平方\n",
    "* BMI值正常範圍：18.5到24之間\n",
    "* BMI值過重範圍：24到27之間"
   ]
  },
  {
   "cell_type": "code",
   "execution_count": 8,
   "metadata": {},
   "outputs": [
    {
     "name": "stdout",
     "output_type": "stream",
     "text": [
      "您的BMI值為：22.981901752370007\n",
      "體重正常\n"
     ]
    }
   ],
   "source": [
    "h = float(input('請輸入您的身高'))\n",
    "w = float(input('請輸入您的體重'))\n",
    "bmi = w/(h**2)\n",
    "\n",
    "print('您的BMI值為：' + str(bmi))\n",
    "\n",
    "if bmi >18.5 and bmi<24:\n",
    "    print('體重正常')\n",
    "elif bmi>=24 and bmi<27:\n",
    "    print('體重過重')"
   ]
  },
  {
   "cell_type": "code",
   "execution_count": null,
   "metadata": {},
   "outputs": [],
   "source": []
  }
 ],
 "metadata": {
  "kernelspec": {
   "display_name": "Python 3",
   "language": "python",
   "name": "python3"
  },
  "language_info": {
   "codemirror_mode": {
    "name": "ipython",
    "version": 3
   },
   "file_extension": ".py",
   "mimetype": "text/x-python",
   "name": "python",
   "nbconvert_exporter": "python",
   "pygments_lexer": "ipython3",
   "version": "3.7.16"
  }
 },
 "nbformat": 4,
 "nbformat_minor": 2
}
