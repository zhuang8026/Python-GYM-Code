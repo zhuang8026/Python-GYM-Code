{
 "cells": [
  {
   "cell_type": "markdown",
   "metadata": {},
   "source": [
    "# 變數與輸入文字"
   ]
  },
  {
   "cell_type": "markdown",
   "metadata": {},
   "source": [
    "### 變數\n",
    "宣告一個name的變數，並且宣告變數的值為你的名字。\n",
    "![](https://i.imgur.com/GRq6C59.jpg)\n",
    ">程式語言中**等號**的意思是，將等號右邊的值傳給左邊的變數。"
   ]
  },
  {
   "cell_type": "code",
   "execution_count": 1,
   "metadata": {},
   "outputs": [
    {
     "name": "stdout",
     "output_type": "stream",
     "text": [
      "Ryan\n"
     ]
    }
   ],
   "source": [
    "name = 'Ryan'\n",
    "print(name)"
   ]
  },
  {
   "cell_type": "markdown",
   "metadata": {},
   "source": [
    "***\n",
    "### 請輸入你的名字(name)，並且列印出來\n",
    "Python 輸入文字的方式\n",
    "    \n",
    "    input('提示使用者要輸入的文字內容')"
   ]
  },
  {
   "cell_type": "code",
   "execution_count": 2,
   "metadata": {},
   "outputs": [
    {
     "name": "stdout",
     "output_type": "stream",
     "text": [
      "1\n"
     ]
    }
   ],
   "source": [
    "name = input('請輸入你的名字')\n",
    "print(name)"
   ]
  },
  {
   "cell_type": "markdown",
   "metadata": {},
   "source": [
    "***\n",
    "### 請輸入你的性別(gender)和年齡(age)"
   ]
  },
  {
   "cell_type": "code",
   "execution_count": 1,
   "metadata": {},
   "outputs": [
    {
     "name": "stdout",
     "output_type": "stream",
     "text": [
      "boy\n",
      "13\n"
     ]
    }
   ],
   "source": [
    "gender = input('請輸入你的性別：')\n",
    "print(gender)\n",
    "age = input('請輸入你的年齡：')\n",
    "print(age)"
   ]
  },
  {
   "cell_type": "markdown",
   "metadata": {},
   "source": [
    "***\n",
    "### 常用語法\n",
    "* 註解\n",
    "* 多個字串連結\n",
    "* 字串單引號和雙引號"
   ]
  },
  {
   "cell_type": "code",
   "execution_count": 3,
   "metadata": {},
   "outputs": [
    {
     "name": "stdout",
     "output_type": "stream",
     "text": [
      "我是WILLIAM\n"
     ]
    }
   ],
   "source": [
    "# 這是註解，不會被執行\n",
    "print('我是'+'WILLIAM')"
   ]
  }
 ],
 "metadata": {
  "kernelspec": {
   "display_name": "Python 3",
   "language": "python",
   "name": "python3"
  },
  "language_info": {
   "codemirror_mode": {
    "name": "ipython",
    "version": 3
   },
   "file_extension": ".py",
   "mimetype": "text/x-python",
   "name": "python",
   "nbconvert_exporter": "python",
   "pygments_lexer": "ipython3",
   "version": "3.7.16"
  }
 },
 "nbformat": 4,
 "nbformat_minor": 2
}
