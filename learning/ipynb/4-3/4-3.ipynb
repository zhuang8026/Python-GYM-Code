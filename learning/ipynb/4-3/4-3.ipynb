{
 "cells": [
  {
   "cell_type": "markdown",
   "metadata": {},
   "source": [
    "## 爬蟲程式基本教學 2\n",
    "\n",
    "### 爬蟲程式範例網頁\n",
    "[https://code-gym.github.io/spider_demo/](https://code-gym.github.io/spider_demo/)\n"
   ]
  },
  {
   "cell_type": "code",
   "execution_count": 1,
   "metadata": {
    "scrolled": true
   },
   "outputs": [],
   "source": [
    "import requests\n",
    "from bs4 import BeautifulSoup\n",
    "resp = requests.get('https://code-gym.github.io/spider_demo/')\n",
    "soup = BeautifulSoup(resp.text, 'html5lib')"
   ]
  },
  {
   "cell_type": "markdown",
   "metadata": {},
   "source": [
    "### parent"
   ]
  },
  {
   "cell_type": "code",
   "execution_count": 5,
   "metadata": {},
   "outputs": [
    {
     "name": "stdout",
     "output_type": "stream",
     "text": [
      "<header id=\"header\">\n",
      "   <!-- Nav -->\n",
      "   <div id=\"nav\">\n",
      "    <!-- Main Nav -->\n",
      "    <div id=\"nav-fixed\">\n",
      "     <div class=\"container\">\n",
      "      <!-- logo -->\n",
      "      <div class=\"nav-logo\">\n",
      "       <a class=\"logo\" href=\"index.html\"><img alt=\"\" src=\"./img/logo.png\"/></a>\n",
      "      </div>\n",
      "      <!-- /logo -->\n",
      "\n",
      "      <!-- nav -->\n",
      "      <ul class=\"nav-menu nav navbar-nav\"><li><a href=\"#\">News</a></li><li><a href=\"#\">Popular</a></li><li class=\"cat-1\"><a href=\"#\">Web Design</a></li><li class=\"cat-2\"><a href=\"#\">JavaScript</a></li><li class=\"cat-3\"><a href=\"#\">Css</a></li><li class=\"cat-4\"><a href=\"#\">Jquery</a></li></ul>\n",
      "      <!-- /nav -->\n",
      "     </div>\n",
      "    </div>\n",
      "    <!-- /Main Nav -->\n",
      "  </div></header>\n"
     ]
    }
   ],
   "source": [
    "nav = soup.find(id = 'nav')\n",
    "header = nav.parent # 使用 parent 屬性找到其父級元素: header\n",
    "\n",
    "print(header)"
   ]
  },
  {
   "cell_type": "markdown",
   "metadata": {},
   "source": [
    "### sibling\n",
    "* previous_sibling\n",
    "* next_sibling"
   ]
  },
  {
   "cell_type": "code",
   "execution_count": 6,
   "metadata": {},
   "outputs": [
    {
     "name": "stdout",
     "output_type": "stream",
     "text": [
      "<li class=\"cat-2\"><a href=\"#\">JavaScript</a></li>\n",
      "<li class=\"cat-1\"><a href=\"#\">Web Design</a></li>\n",
      "<li class=\"cat-3\"><a href=\"#\">Css</a></li>\n"
     ]
    }
   ],
   "source": [
    "javascript = soup.find('li','cat-2')\n",
    "print(javascript) # 找到第一個符合條件的元素\n",
    "print(javascript.previous_sibling) # 同一層，上一個節點 cat-1\n",
    "print(javascript.next_sibling) # 同一層，下一個節點 cat-3"
   ]
  },
  {
   "cell_type": "markdown",
   "metadata": {},
   "source": [
    "### children"
   ]
  },
  {
   "cell_type": "code",
   "execution_count": 8,
   "metadata": {},
   "outputs": [
    {
     "name": "stdout",
     "output_type": "stream",
     "text": [
      "News\n",
      "Popular\n",
      "Web Design\n",
      "JavaScript\n",
      "Css\n",
      "Jquery\n"
     ]
    }
   ],
   "source": [
    "ul = soup.find('ul')\n",
    "for li in ul.children: # 找子節點\n",
    "    # print(li.find('a'))\n",
    "    print(li.find('a').text)\n",
    "\n",
    "# for li in ul.children:\n",
    "#     print(li.find_all('a'))"
   ]
  },
  {
   "cell_type": "code",
   "execution_count": null,
   "metadata": {},
   "outputs": [],
   "source": []
  }
 ],
 "metadata": {
  "kernelspec": {
   "display_name": "Python 3",
   "language": "python",
   "name": "python3"
  },
  "language_info": {
   "codemirror_mode": {
    "name": "ipython",
    "version": 3
   },
   "file_extension": ".py",
   "mimetype": "text/x-python",
   "name": "python",
   "nbconvert_exporter": "python",
   "pygments_lexer": "ipython3",
   "version": "3.7.16"
  }
 },
 "nbformat": 4,
 "nbformat_minor": 2
}
