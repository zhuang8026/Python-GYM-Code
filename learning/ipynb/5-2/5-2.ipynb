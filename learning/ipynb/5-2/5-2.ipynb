{
 "cells": [
  {
   "cell_type": "code",
   "execution_count": 23,
   "metadata": {},
   "outputs": [
    {
     "name": "stdout",
     "output_type": "stream",
     "text": [
      "1 1.75 70.0 22.86\n",
      "2 1.65 54.0 19.83\n",
      "3 1.58 51.0 20.43\n"
     ]
    }
   ],
   "source": [
    "import sqlite3 #python 已預先安裝此模組 -> sqlite3\n",
    "\n",
    "conn = sqlite3.connect('/Users/ryan/tmp/test.db')\n",
    "try:\n",
    "    info = []\n",
    "    cur = conn.cursor(); #cursor物件用於 關閉資料庫 或 執行 一個 或 多個 資料庫查詢或命令\n",
    "    rows = cur.execute('select * from person') # execute: 執行一個資料庫查詢或命令\n",
    "    for row in rows:\n",
    "\n",
    "        # 欄位解構\n",
    "        id = row[0]\n",
    "        height = row[2]\n",
    "        weight = row[3]\n",
    "        bmi = round(weight/height**2, 2)\n",
    "\n",
    "        print(id, height, weight, bmi)\n",
    "\n",
    "        # 更新 BMI，並存入 list\n",
    "        info.append([bmi, id])\n",
    "\n",
    "    # 更新資料庫\n",
    "    for data in info:\n",
    "        # excute(sql % [, args]): 執行一個資料庫查詢或命令\n",
    "        cur.execute('update person set bmi=%d where id=%d' % (data[0], data[1])) \n",
    "    conn.commit()\n",
    "    \n",
    "finally:\n",
    "    conn.close()\n",
    "\n"
   ]
  },
  {
   "cell_type": "code",
   "execution_count": null,
   "metadata": {},
   "outputs": [],
   "source": []
  }
 ],
 "metadata": {
  "kernelspec": {
   "display_name": "Python 3",
   "language": "python",
   "name": "python3"
  },
  "language_info": {
   "codemirror_mode": {
    "name": "ipython",
    "version": 3
   },
   "file_extension": ".py",
   "mimetype": "text/x-python",
   "name": "python",
   "nbconvert_exporter": "python",
   "pygments_lexer": "ipython3",
   "version": "3.7.3"
  }
 },
 "nbformat": 4,
 "nbformat_minor": 2
}
