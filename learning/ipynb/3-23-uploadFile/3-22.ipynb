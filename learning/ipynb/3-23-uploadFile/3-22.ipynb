{
 "cells": [
  {
   "cell_type": "markdown",
   "metadata": {},
   "source": [
    "## 檔案輸入與輸出\n",
    "\n",
    "    open('路徑', '模式')\n",
    "\n",
    "### 模式\n",
    "https://docs.python.org/3/library/functions.html#open\n",
    "* r : 讀取檔案，如果沒有檔案會發生錯誤\n",
    "* w : 寫入內容，如果沒有檔案會自動產生\n",
    "* x : 建立檔案\n",
    "* a : 打開文件，並且在最後結尾繼續寫入資料\n",
    "* t : 一般文字檔，default模式使用t\n",
    "* b : 二進位模式，例如模式設定為rb，讀取圖片檔\n",
    "\n",
    "### 寫入內容\n",
    "    write()\n",
    "    \n",
    "### 關閉檔案\n",
    "    try:\n",
    "        打開檔案\n",
    "    finally:\n",
    "        close()"
   ]
  },
  {
   "cell_type": "code",
   "execution_count": 13,
   "metadata": {},
   "outputs": [],
   "source": [
    "try:\n",
    "    file = open('./demo.txt', 'w') #如果沒有檔案會自動生成\n",
    "    file.write('test1, test2\\n')\n",
    "    file.write('testA, test2B\\n')\n",
    "except ValueError: # 抓住 ValueError\n",
    "    print('抓住錯誤 %s' % ValueError)\n",
    "finally:\n",
    "    file.close()"
   ]
  },
  {
   "cell_type": "markdown",
   "metadata": {},
   "source": [
    "### 讀取資料\n",
    "\n",
    "    read()\n",
    "    for迴圈讀取每一行資料\n",
    "    readlines()"
   ]
  },
  {
   "cell_type": "code",
   "execution_count": 26,
   "metadata": {},
   "outputs": [
    {
     "name": "stdout",
     "output_type": "stream",
     "text": [
      "['test1, test2\\n', 'testA, test2B\\n']\n"
     ]
    }
   ],
   "source": [
    "with open('./demo.txt', 'r') as f:  # ’as f‘ 前面全部統稱 f\n",
    "                                    # 需支援 [環境管理協定] 的物件才可使用\n",
    "                                    # 不需在寫 finally 和 close\n",
    "                                    # 此物件會自動執行 __enter__() & __exit__() \n",
    "                                        # 如果物件發現錯誤 or 結束時，都會執行 \"__exit__()\",所以才不用寫 close\n",
    "    # s  = f.read()\n",
    "    # print(s)\n",
    "\n",
    "    # lines = [line.strip() for line in f] # strip() 方法來刪除每一行首尾的空白字符（包括換行符 \\n）\n",
    "    # print(lines) # result: ['test1, test2', 'testA, test2B']\n",
    "\n",
    "    list = f.readlines()\n",
    "    print(list) # result: ['test1, test2\\n', 'testA, test2B\\n']"
   ]
  },
  {
   "cell_type": "code",
   "execution_count": null,
   "metadata": {},
   "outputs": [],
   "source": []
  }
 ],
 "metadata": {
  "kernelspec": {
   "display_name": "Python 3",
   "language": "python",
   "name": "python3"
  },
  "language_info": {
   "codemirror_mode": {
    "name": "ipython",
    "version": 3
   },
   "file_extension": ".py",
   "mimetype": "text/x-python",
   "name": "python",
   "nbconvert_exporter": "python",
   "pygments_lexer": "ipython3",
   "version": "3.9.16"
  }
 },
 "nbformat": 4,
 "nbformat_minor": 2
}
