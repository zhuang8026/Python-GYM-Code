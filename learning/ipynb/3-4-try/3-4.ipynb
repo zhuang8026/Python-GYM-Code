{
 "cells": [
  {
   "cell_type": "markdown",
   "metadata": {},
   "source": [
    "## 例外處理(try-except)\n",
    "\n",
    "* 輸入文字後未轉型為整數，並且進行數學運算，發生發生例外(Exceptoion)錯誤時，使用try-except控制\n",
    "* 當使用者輸入非數字的值，程式發生ValueError時，列印出提示文字"
   ]
  },
  {
   "cell_type": "code",
   "execution_count": 3,
   "metadata": {},
   "outputs": [
    {
     "name": "stdout",
     "output_type": "stream",
     "text": [
      "13\n"
     ]
    }
   ],
   "source": [
    "try:\n",
    "    num = input('請輸入一個數字')\n",
    "    num = int(num)\n",
    "    total = num + 1\n",
    "    print(total)\n",
    "except ValueError:\n",
    "    print('請輸入數字')\n",
    "except:\n",
    "    print('發生錯誤')"
   ]
  },
  {
   "cell_type": "markdown",
   "metadata": {},
   "source": [
    "* 當程式沒有發生異常被順利執行，在else中執行程式\n",
    "* 不管是否發生異常，都會執行finally中的程式，通常用在關閉資源的時候"
   ]
  },
  {
   "cell_type": "code",
   "execution_count": 23,
   "metadata": {},
   "outputs": [
    {
     "name": "stdout",
     "output_type": "stream",
     "text": [
      "請輸入一個數字a\n",
      "請輸入數字\n",
      "程式結束\n"
     ]
    }
   ],
   "source": [
    "try:\n",
    "    num = input('請輸入一個數字')\n",
    "    num = int(num)\n",
    "    total = num + 1\n",
    "    print(total)\n",
    "except ValueError:\n",
    "    print('請輸入數字')\n",
    "except:\n",
    "    print('發生錯誤')\n",
    "else:\n",
    "    print('成功執行')\n",
    "finally:\n",
    "    print('程式結束')"
   ]
  },
  {
   "cell_type": "markdown",
   "metadata": {},
   "source": [
    "[Python官網-例外清單和介紹](https://docs.python.org/3/library/exceptions.html)"
   ]
  }
 ],
 "metadata": {
  "kernelspec": {
   "display_name": "Python 3",
   "language": "python",
   "name": "python3"
  },
  "language_info": {
   "codemirror_mode": {
    "name": "ipython",
    "version": 3
   },
   "file_extension": ".py",
   "mimetype": "text/x-python",
   "name": "python",
   "nbconvert_exporter": "python",
   "pygments_lexer": "ipython3",
   "version": "3.7.16"
  }
 },
 "nbformat": 4,
 "nbformat_minor": 2
}
