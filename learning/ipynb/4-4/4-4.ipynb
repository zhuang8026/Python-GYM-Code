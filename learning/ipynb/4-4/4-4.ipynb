{
 "cells": [
  {
   "cell_type": "markdown",
   "metadata": {},
   "source": [
    "## PTT NBA\n",
    "\n",
    "[https://www.ptt.cc/bbs/NBA/index.html](https://www.ptt.cc/bbs/NBA/index.html)\n",
    "\n"
   ]
  },
  {
   "cell_type": "code",
   "execution_count": 5,
   "metadata": {},
   "outputs": [
    {
     "name": "stdout",
     "output_type": "stream",
     "text": [
      "6\n",
      "12/07 99:[情報] 阿肥為21世紀後出手超過30次得分第二少\n",
      "12/07 爆:[情報] Kerr：我們可能會視情況調整先發陣容\n",
      "12/07 22:[新聞] 東契奇半場29分「大三元」史上第1人　生\n",
      "12/07 26:[花邊] Porzingis談與獨行俠及Luka Doncic分道揚\n",
      "12/07 16:[花邊] 熱火官方：可以期待我們每年這天發這照片\n",
      "12/07 27:[情報] NBA Standings (Dec. 07, 2023)\n",
      "16\n",
      "12/07 29:[BOX ] Heat 112:103 Raptors 數據\n",
      "12/07 94:[BOX ] Spurs 94:102 Timberwolves 數據\n",
      "12/07 23:[BOX ] Nets 114:113 Hawks 數據\n",
      "12/07 78:[花邊] Lillard:希望季中錦標賽的獎金可以增加\n",
      "12/07 37:[新聞] 湖人「無球暫停」引起質疑　裁判回應：\n",
      "12/07 44:[BOX ] Thunder 101:110 Rockets 數據\n",
      "12/07 58:[BOX ] Hornets 100:111 Bulls 數據\n",
      "12/07 爆:[BOX ] Jazz 97:147 Mavericks 數據\n",
      "12/07 47:Re: [花邊] Lillard:希望季中錦標賽的獎金可以增加\n",
      "12/07 66:[情報] LaVine會再缺陣3-4週\n",
      "12/07 爆:[BOX ] Nuggets 102:111 Clippers 數據\n",
      "12/07 52:[情報] 阿肥 9-32 生涯最打鐵的一場\n",
      "12/07 98:[BOX ] Blazers 106:110 Warriors 數據\n",
      "12/07 爆:[花邊] Zion聽到有機會贏下50萬獎金的反應\n",
      "12/07 20:[情報] NBA Standings (Dec. 07, 2023)\n",
      "12/07 75:[花邊] 老巴說Ingram面對湖人會大爆發\n",
      "17\n",
      "12/07 11:[Live] 籃網 @ 老鷹\n",
      "12/07 64:[花邊] LBJ談季中賽：阿銀是天才，就是這麼簡單\n",
      "12/07 45:[Live] 雷霆 @ 火箭\n",
      "12/07 99:[Live] 爵士 @ 獨行俠\n",
      "12/07 48:[情報] ESPN：聯盟禁止湖人明日身穿黑色球衣\n",
      "12/07 99:[花邊] Poole：Kuzma狀態極佳，有看到他的進步\n",
      "12/07 73:[情報] 湖人太陽戰裁判報告\n",
      "12/07 32:[情報] 湖人隊5人組合的進攻得分率為聯盟最佳\n",
      "12/07 51:[花邊] Lowry:我會在多倫多退休\n",
      "12/07 53:[情報] LeBron季中賽場均\n",
      "12/07 60:[BOX ] Grizzlies 116:102 Pistons 數據\n",
      "12/07 20:[情報] Desmond Bane生涯新高49分\n",
      "12/07 58:[BOX ] Sixers 131:126 Wizards 數據\n",
      "12/07 爆:[Live] 拓荒者 @ 勇士\n",
      "12/07 99:[Live] 金塊 @ 快艇\n",
      "12/07 51:[BOX ] Magic 111:121 Cavaliers 數據\n",
      "12/07 爆:[情報] Luka Doncic半場完成大三元\n",
      "5\n",
      "12/07 22:[花邊] 老巴要跟Shaq搧耳光比賽\n",
      "12/07 55:[Live] 魔術 @ 騎士\n",
      "12/07 17:[Live] 灰熊 @ 活塞\n",
      "12/07 31:[Live] 七六人 @ 巫師\n",
      "12/07 66:[Live] 馬刺 @ 灰狼\n",
      "0\n"
     ]
    }
   ],
   "source": [
    "import requests\n",
    "from bs4 import BeautifulSoup\n",
    "import time\n",
    "\n",
    "today = time.strftime('%m/%d').lstrip('0')\n",
    "\n",
    "def pttNBA(url):\n",
    "    resp = requests.get(url)\n",
    "    if resp.status_code != 200:\n",
    "        print('URL發生錯誤：' + url)\n",
    "        return\n",
    "\n",
    "    soup = BeautifulSoup(resp.text, 'html5lib')\n",
    "    paging = soup.find('div', 'btn-group btn-group-paging').find_all('a')[1]['href']\n",
    "\n",
    "    articles = []\n",
    "    rents = soup.find_all('div', 'r-ent')\n",
    "    for rent in rents:\n",
    "        title = rent.find('div', 'title').text.strip()\n",
    "        count = rent.find('div', 'nrec').text.strip()\n",
    "        date = rent.find('div', 'meta').find('div', 'date').text.strip()\n",
    "        article = '%s %s:%s' % (date, count, title)\n",
    "\n",
    "        try:\n",
    "            if today == date and int(count) > 10:\n",
    "                articles.append(article)\n",
    "        except:\n",
    "            if today == date and count == '爆':\n",
    "                articles.append(article)\n",
    "    print(len(articles))\n",
    "    if len(articles) != 0:\n",
    "        for article in articles:\n",
    "            print(article)\n",
    "        pttNBA('https://www.ptt.cc' + paging)\n",
    "    else:\n",
    "        return\n",
    "\n",
    "pttNBA('https://www.ptt.cc/bbs/NBA/index.html')\n"
   ]
  },
  {
   "cell_type": "code",
   "execution_count": 11,
   "metadata": {},
   "outputs": [],
   "source": []
  },
  {
   "cell_type": "code",
   "execution_count": null,
   "metadata": {},
   "outputs": [],
   "source": []
  }
 ],
 "metadata": {
  "kernelspec": {
   "display_name": "Python 3",
   "language": "python",
   "name": "python3"
  },
  "language_info": {
   "codemirror_mode": {
    "name": "ipython",
    "version": 3
   },
   "file_extension": ".py",
   "mimetype": "text/x-python",
   "name": "python",
   "nbconvert_exporter": "python",
   "pygments_lexer": "ipython3",
   "version": "3.7.16"
  }
 },
 "nbformat": 4,
 "nbformat_minor": 2
}
