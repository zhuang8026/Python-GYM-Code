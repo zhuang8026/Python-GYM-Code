{
 "cells": [
  {
   "cell_type": "markdown",
   "metadata": {},
   "source": [
    "## for迴圈和while迴圈\n",
    "\n",
    "### for迴圈取得容器型態元素的用法\n",
    "    for 變數 in 容器型態 ：\n",
    "        容器內元素依序放入變數中取出"
   ]
  },
  {
   "cell_type": "code",
   "execution_count": 22,
   "metadata": {},
   "outputs": [
    {
     "name": "stdout",
     "output_type": "stream",
     "text": [
      "Mary\n",
      "Sam\n",
      "David\n"
     ]
    }
   ],
   "source": [
    "names = ['Mary', 'Sam', 'David']\n",
    "for s in names:\n",
    "    print(s)"
   ]
  },
  {
   "cell_type": "code",
   "execution_count": 1,
   "metadata": {},
   "outputs": [
    {
     "name": "stdout",
     "output_type": "stream",
     "text": [
      "1\n",
      "2\n",
      "3\n"
     ]
    }
   ],
   "source": [
    "dict = {'a':1, 'b':2, 'c':3}\n",
    "for key in dict.keys():\n",
    "    print(dict[key])"
   ]
  },
  {
   "cell_type": "markdown",
   "metadata": {},
   "source": [
    "### range(起始值, 結束值, 步進值)\n",
    "* 起始值預設為0，若不輸入起始值則從0開始\n",
    "* 結束位置不包含你所輸入的結束值，例如range(3)不會包含3\n",
    "\n",
    "### continue, break"
   ]
  },
  {
   "cell_type": "code",
   "execution_count": 12,
   "metadata": {},
   "outputs": [
    {
     "name": "stdout",
     "output_type": "stream",
     "text": [
      "1\n"
     ]
    }
   ],
   "source": [
    "for i in range(1, 10, 2):\n",
    "    if i == 3:\n",
    "        break\n",
    "    print(i)"
   ]
  },
  {
   "cell_type": "markdown",
   "metadata": {},
   "source": [
    "### while迴圈\n",
    "    while 條件式：\n",
    "        若條件式為True，則執行程式碼\n",
    "\n",
    "### while迴圈示範(猜數字)\n",
    "* 隨機取亂數1到10\n",
    "* 讓使用者可以輸入數字，猜猜看有沒有猜中程式"
   ]
  },
  {
   "cell_type": "code",
   "execution_count": 14,
   "metadata": {},
   "outputs": [
    {
     "name": "stdout",
     "output_type": "stream",
     "text": [
      "你猜的數字比較小\n",
      "你猜的數字比較小\n",
      "你猜的數字比較小\n",
      "你猜的數字比較小\n",
      "你猜的數字比較小\n",
      "你猜的數字比較小\n",
      "你猜的數字比較小\n",
      "你猜對了！\n"
     ]
    }
   ],
   "source": [
    "import random\n",
    "\n",
    "n = random.randint(1,10)\n",
    "guess = int(input('請輸入1到10之間的一個數字：'))\n",
    "\n",
    "while n != guess:\n",
    "    if guess<n:\n",
    "        print('你猜的數字比較小')\n",
    "        guess = int(input('請輸入1到10之間的一個數字：'))\n",
    "    elif guess>n:\n",
    "        print('你猜的數字比較大')\n",
    "        guess = int(input('請輸入1到10之間的一個數字：'))\n",
    "print('你猜對了！')"
   ]
  },
  {
   "cell_type": "code",
   "execution_count": null,
   "metadata": {},
   "outputs": [],
   "source": []
  }
 ],
 "metadata": {
  "kernelspec": {
   "display_name": "Python 3",
   "language": "python",
   "name": "python3"
  },
  "language_info": {
   "codemirror_mode": {
    "name": "ipython",
    "version": 3
   },
   "file_extension": ".py",
   "mimetype": "text/x-python",
   "name": "python",
   "nbconvert_exporter": "python",
   "pygments_lexer": "ipython3",
   "version": "3.9.16"
  }
 },
 "nbformat": 4,
 "nbformat_minor": 2
}
