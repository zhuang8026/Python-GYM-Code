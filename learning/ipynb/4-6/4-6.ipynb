{
 "cells": [
  {
   "cell_type": "markdown",
   "metadata": {},
   "source": [
    "## 台鐵時刻表\n",
    "\n",
    "[https://tip.railway.gov.tw/tra-tip-web/tip](https://tip.railway.gov.tw/tra-tip-web/tip)"
   ]
  },
  {
   "cell_type": "code",
   "execution_count": 1,
   "metadata": {},
   "outputs": [
    {
     "name": "stdout",
     "output_type": "stream",
     "text": [
      "b5834645-b1b0-47dc-a2ef-87673a1554e5 b5834645-b1b0-47dc-a2ef-87673a1554e5\n",
      "自強(3000) 161 : 06:03, 07:05\n",
      "區間 1117 : 06:13, 07:58\n",
      "自強 103 : 06:30, 07:37\n",
      "區間 1121 : 06:40, 08:19\n",
      "自強 105 : 07:00, 08:11\n",
      "區間 2143 : 07:05, 08:35\n",
      "區間快 2007 : 07:24, 08:47\n",
      "區間 1127 : 07:28, 09:04\n",
      "區間 1131 : 07:35, 09:16\n",
      "區間 2153 : 08:03, 09:47\n",
      "自強 109 : 08:13, 09:21\n",
      "自強 113 : 08:28, 09:36\n",
      "區間 1137 : 08:32, 10:07\n",
      "區間 1141 : 08:48, 10:25\n",
      "自強 115 : 09:00, 10:11\n",
      "區間 2163 : 09:06, 10:36\n",
      "莒光 511 : 09:16, 10:41\n",
      "區間 1147 : 09:29, 11:08\n",
      "區間 1151 : 09:40, 11:20\n",
      "普悠瑪 131 : 10:00, 10:49\n",
      "區間 2173 : 10:05, 11:42\n",
      "自強(3000) 117 : 10:20, 11:24\n",
      "區間 1157 : 10:25, 11:57\n",
      "自強(3000) 119 : 10:40, 11:48\n",
      "區間 1161 : 10:45, 12:24\n",
      "自強 121 : 11:00, 12:08\n",
      "區間 2183 : 11:06, 12:38\n",
      "區間快 2013 : 11:46, 12:58\n",
      "自強 123 : 11:58, 13:06\n"
     ]
    }
   ],
   "source": [
    "import requests\n",
    "from bs4 import BeautifulSoup\n",
    "import time\n",
    "\n",
    "url = 'https://tip.railway.gov.tw/tra-tip-web/tip'\n",
    "staDic = {}\n",
    "today = time.strftime('%Y/%m/%d')\n",
    "sTime = '06:00' # 早上6點 到\n",
    "eTime = '12:00' # 晚上12點\n",
    "\n",
    "# 開始爬蟲\n",
    "def getTrip():\n",
    "    resp = requests.get(url)\n",
    "\n",
    "    if resp.status_code != 200:\n",
    "        print('URL發生錯誤：' + url)\n",
    "        return\n",
    "        \n",
    "    soup = BeautifulSoup(resp.text, 'html5lib')\n",
    "    stations = soup.find(id = 'cityHot').ul.find_all('li') # 找到所有 li\n",
    "\n",
    "    # li 中有有 button，並且迴圈出來\n",
    "    for station in stations:\n",
    "        stationName = station.button.text; # 取得按鈕中的文字\n",
    "        stationId = station.button['title']; # 取得 按鈕中 title 的值\n",
    "        staDic[stationName] = stationId;\n",
    "    \n",
    "    csrf = soup.find(id = 'queryForm').find('input',{'name':'_csrf'})['value']; # 寫法一\n",
    "    csrf2 = soup.find(id = 'queryForm').find('input',{'name':'_csrf'}).get('value'); # 寫法二\n",
    "    print(csrf, csrf2);\n",
    "\n",
    "    # 表單資料\n",
    "    formData = {\n",
    "        'trainTypeList': 'ALL',\n",
    "        'transfer': 'ONE',\n",
    "        'startOrEndTime': 'true',\n",
    "        'startStation': staDic['臺北'],\n",
    "        'endStation': staDic['新竹'],\n",
    "        'rideDate': today,\n",
    "        'startTime': sTime,\n",
    "        'endTime': eTime, \n",
    "        '_csrf': csrf\n",
    "    }\n",
    "    \n",
    "    queryUrl = soup.find(id='queryForm')['action'] # return: \"/tra-tip-web/tip/tip001/tip112/querybytime\"\n",
    "\n",
    "    # 資料回傳\n",
    "    qResp = requests.post('https://tip.railway.gov.tw' + queryUrl, data=formData)\n",
    "    # 解析數據 \n",
    "    qSoup = BeautifulSoup(qResp.text, 'html5lib')\n",
    "    # 印出 tr 標籤， class name 為 trip-column\n",
    "    trs = qSoup.find_all('tr', 'trip-column')\n",
    "    for tr in trs:\n",
    "        td = tr.find_all('td') # 找到 td 標籤\n",
    "\n",
    "        # td>ul>li>a\n",
    "        # Array中一共找到 6 個dom結構\n",
    "        print('%s : %s, %s' % (td[0].ul.li.a.text, td[1].text, td[2].text)) \n",
    "\n",
    "# 執行\n",
    "getTrip()\n"
   ]
  },
  {
   "cell_type": "code",
   "execution_count": null,
   "metadata": {},
   "outputs": [],
   "source": []
  }
 ],
 "metadata": {
  "kernelspec": {
   "display_name": "Python 3",
   "language": "python",
   "name": "python3"
  },
  "language_info": {
   "codemirror_mode": {
    "name": "ipython",
    "version": 3
   },
   "file_extension": ".py",
   "mimetype": "text/x-python",
   "name": "python",
   "nbconvert_exporter": "python",
   "pygments_lexer": "ipython3",
   "version": "3.7.16"
  }
 },
 "nbformat": 4,
 "nbformat_minor": 2
}
