{
 "cells": [
  {
   "cell_type": "markdown",
   "metadata": {},
   "source": [
    "## 爬蟲程式基本教學 1\n",
    "\n",
    "### 爬蟲程式範例網頁\n",
    "[https://code-gym.github.io/spider_demo/](https://code-gym.github.io/spider_demo/)\n",
    "\n",
    "* BeautifulSoup\n",
    "* requests\n",
    "* find()\n",
    "* text"
   ]
  },
  {
   "cell_type": "code",
   "execution_count": 1,
   "metadata": {},
   "outputs": [
    {
     "name": "stdout",
     "output_type": "stream",
     "text": [
      "Code Gym 爬蟲教學\n",
      "Code Gym 爬蟲教學\n"
     ]
    }
   ],
   "source": [
    "import requests\n",
    "from bs4 import BeautifulSoup\n",
    "\n",
    "resp = requests.get('https://code-gym.github.io/spider_demo/')\n",
    "soup = BeautifulSoup(resp.text, 'html5lib')\n",
    "print(soup.find('h1').text)\n",
    "print(soup.h1.text)"
   ]
  },
  {
   "cell_type": "markdown",
   "metadata": {},
   "source": [
    "### find_all"
   ]
  },
  {
   "cell_type": "code",
   "execution_count": 2,
   "metadata": {},
   "outputs": [
    {
     "name": "stdout",
     "output_type": "stream",
     "text": [
      "None\n",
      "<a href=\"blog-post.html\">JavaScript (簡稱 JS) 是具有一級函數的輕量級、直譯式或即時編譯（JIT-compiled）的程式語言。\n",
      "         </a>\n",
      "<a href=\"blog-post.html\">jQuery是一套跨瀏覽器的JavaScript函式庫，簡化HTML與JavaScript之間的操作。\n",
      "         </a>\n",
      "<a href=\"blog-post.html\">web design 涵蓋了製作和維護網站的許多不同的技能和學科。它包含了網頁圖形設計、介面設計等技術。</a>\n",
      "<a href=\"blog-post.html\">JavaScript (簡稱 JS) 是具有一級函數的輕量級、直譯式或即時編譯（JIT-compiled）的程式語言。\n",
      "         </a>\n",
      "<a href=\"blog-post.html\">jQuery是一套跨瀏覽器的JavaScript函式庫，簡化HTML與JavaScript之間的操作。\n",
      "         </a>\n",
      "<a href=\"blog-post.html\">淺談 JavaScript 頭號難題 this\n",
      "         </a>\n",
      "<a href=\"blog-post.html\">層疊樣式表（英語：Cascading Style Sheets，簡寫CSS），又稱串樣式列表\n",
      "         </a>\n",
      "<a href=\"blog-post.html\">RWD網頁設計趨勢\n",
      "         </a>\n",
      "None\n",
      "None\n",
      "None\n"
     ]
    }
   ],
   "source": [
    "for h3 in soup.find_all('h3'):\n",
    "    print(h3.a)"
   ]
  },
  {
   "cell_type": "markdown",
   "metadata": {},
   "source": [
    "### 使用class取得網頁中元素資料"
   ]
  },
  {
   "cell_type": "code",
   "execution_count": 3,
   "metadata": {},
   "outputs": [
    {
     "name": "stdout",
     "output_type": "stream",
     "text": [
      "<a href=\"blog-post.html\">JavaScript (簡稱 JS) 是具有一級函數的輕量級、直譯式或即時編譯（JIT-compiled）的程式語言。\n",
      "         </a>\n",
      "<a href=\"blog-post.html\">jQuery是一套跨瀏覽器的JavaScript函式庫，簡化HTML與JavaScript之間的操作。\n",
      "         </a>\n",
      "<a href=\"blog-post.html\">web design 涵蓋了製作和維護網站的許多不同的技能和學科。它包含了網頁圖形設計、介面設計等技術。</a>\n",
      "<a href=\"blog-post.html\">JavaScript (簡稱 JS) 是具有一級函數的輕量級、直譯式或即時編譯（JIT-compiled）的程式語言。\n",
      "         </a>\n",
      "<a href=\"blog-post.html\">jQuery是一套跨瀏覽器的JavaScript函式庫，簡化HTML與JavaScript之間的操作。\n",
      "         </a>\n",
      "<a href=\"blog-post.html\">淺談 JavaScript 頭號難題 this\n",
      "         </a>\n",
      "<a href=\"blog-post.html\">層疊樣式表（英語：Cascading Style Sheets，簡寫CSS），又稱串樣式列表\n",
      "         </a>\n",
      "<a href=\"blog-post.html\">RWD網頁設計趨勢\n",
      "         </a>\n"
     ]
    }
   ],
   "source": [
    "for title in soup.find_all('h3','post-title'):\n",
    "    print(title.a)"
   ]
  },
  {
   "cell_type": "markdown",
   "metadata": {},
   "source": [
    "### 使用key-value取得網頁中元素資料"
   ]
  },
  {
   "cell_type": "code",
   "execution_count": 4,
   "metadata": {},
   "outputs": [
    {
     "name": "stdout",
     "output_type": "stream",
     "text": [
      "<a class=\"post-category cat-1\" href=\"category.html\">Web Design</a>\n",
      "<a class=\"post-category cat-1\" href=\"category.html\">Web Design</a>\n"
     ]
    }
   ],
   "source": [
    "for cat in soup.find_all('a',{'class':'post-category','class':'cat-1'}):\n",
    "    print(cat)"
   ]
  },
  {
   "cell_type": "markdown",
   "metadata": {},
   "source": [
    "### 抓取部落格文章標題和資訊\n",
    "\n",
    "* stripped_strings"
   ]
  },
  {
   "cell_type": "code",
   "execution_count": 5,
   "metadata": {},
   "outputs": [
    {
     "name": "stdout",
     "output_type": "stream",
     "text": [
      "JavaScript\n",
      "March 1, 2019\n",
      "JavaScript (簡稱 JS) 是具有一級函數的輕量級、直譯式或即時編譯（JIT-compiled）的程式語言。\n",
      "Jquery\n",
      "March 2, 2019\n",
      "jQuery是一套跨瀏覽器的JavaScript函式庫，簡化HTML與JavaScript之間的操作。\n",
      "Web Design\n",
      "March 5, 2019\n",
      "web design 涵蓋了製作和維護網站的許多不同的技能和學科。它包含了網頁圖形設計、介面設計等技術。\n",
      "JavaScript\n",
      "March 8, 2019\n",
      "JavaScript (簡稱 JS) 是具有一級函數的輕量級、直譯式或即時編譯（JIT-compiled）的程式語言。\n",
      "Jquery\n",
      "March 13, 2019\n",
      "jQuery是一套跨瀏覽器的JavaScript函式庫，簡化HTML與JavaScript之間的操作。\n",
      "JavaScript\n",
      "March 18, 2019\n",
      "淺談 JavaScript 頭號難題 this\n",
      "Css\n",
      "March 22, 2019\n",
      "層疊樣式表（英語：Cascading Style Sheets，簡寫CSS），又稱串樣式列表\n",
      "Web Design\n",
      "March 26, 2019\n",
      "RWD網頁設計趨勢\n"
     ]
    }
   ],
   "source": [
    "for posts in soup.find_all('div','post-body'):\n",
    "    for post in posts.stripped_strings:\n",
    "        print(post)"
   ]
  },
  {
   "cell_type": "code",
   "execution_count": null,
   "metadata": {},
   "outputs": [],
   "source": []
  }
 ],
 "metadata": {
  "kernelspec": {
   "display_name": "Python 3",
   "language": "python",
   "name": "python3"
  },
  "language_info": {
   "codemirror_mode": {
    "name": "ipython",
    "version": 3
   },
   "file_extension": ".py",
   "mimetype": "text/x-python",
   "name": "python",
   "nbconvert_exporter": "python",
   "pygments_lexer": "ipython3",
   "version": "3.7.16"
  }
 },
 "nbformat": 4,
 "nbformat_minor": 2
}
