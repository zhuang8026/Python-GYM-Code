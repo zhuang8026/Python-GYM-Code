{
 "cells": [
  {
   "cell_type": "markdown",
   "metadata": {},
   "source": [
    "## 物件導向\n",
    "\n",
    "### 繼承\n",
    "* 子類別繼承父類別後，可以使用父類別的屬性和功能\n",
    "* 子類別可以自訂屬性和函式，不被父類別約束\n",
    "* 子類別可以覆寫(override)父類別的方法\n"
   ]
  },
  {
   "cell_type": "code",
   "execution_count": 2,
   "metadata": {},
   "outputs": [
    {
     "name": "stdout",
     "output_type": "stream",
     "text": [
      "Hello, I am Ryan. My student ID is S12345.\n",
      "My student ID is S12345\n",
      "Hello, I am Ryan. My student ID is S12345.\n"
     ]
    }
   ],
   "source": [
    "class Person:\n",
    "    def __init__(self, name, age):\n",
    "        self.name = name\n",
    "        self.age = age\n",
    "    def sayHello(self):\n",
    "        print('Hello, I am %s' % self.name)\n",
    "    \n",
    "    def response(yourName):\n",
    "        print('Hello %s.' % yourName)\n",
    "\n",
    "class Student(Person):\n",
    "    def __init__(self, name, age, sid):\n",
    "        super().__init__(name,age)\n",
    "        self.sid = sid\n",
    "        \n",
    "    def showSid(self):\n",
    "        print('My student ID is %s' % self.sid)\n",
    "        \n",
    "    def sayHello(self):\n",
    "        print('Hello, I am %s. My student ID is %s.' % (self.name, self.sid))\n",
    "        \n",
    "stu = Student('Ryan', '18', 'S12345')\n",
    "stu.sayHello()\n",
    "stu.showSid()\n",
    "stu.sayHello()"
   ]
  },
  {
   "cell_type": "markdown",
   "metadata": {},
   "source": [
    "### 抽象類別\n",
    "\n",
    "* 父類別不實作函示中的程式碼，交由子類別實作\n",
    "* 抽象類別不能建立實例(instance)\n",
    "* 如果子類別沒有實作，將會跳出錯誤訊息\n",
    "* 抽象類別中尚未實作的函式，稱之為抽象函式"
   ]
  },
  {
   "cell_type": "code",
   "execution_count": 8,
   "metadata": {},
   "outputs": [
    {
     "name": "stdout",
     "output_type": "stream",
     "text": [
      "My teacher ID is T12345.\n"
     ]
    }
   ],
   "source": [
    "from abc import ABCMeta, abstractmethod # abcMeta: 抽象類別\n",
    "\n",
    "# 抽象類別\n",
    "class Employee(metaclass=ABCMeta):\n",
    "    def __init__(self, name, age):\n",
    "        self.name = name\n",
    "        self.age = age\n",
    "\n",
    "    @abstractmethod\n",
    "    def showId():\n",
    "        pass\n",
    "\n",
    "class Teacher(Employee):\n",
    "    def __init__(self, name, age, tid):\n",
    "        super().__init__(name, age)\n",
    "        self.__tid = tid\n",
    "    def showId(self):\n",
    "        print('My teacher ID is %s.' % self.__tid)\n",
    "\n",
    "tea = Teacher('Mary', '36', 'T12345')\n",
    "tea.showId()"
   ]
  },
  {
   "cell_type": "code",
   "execution_count": null,
   "metadata": {},
   "outputs": [],
   "source": []
  }
 ],
 "metadata": {
  "kernelspec": {
   "display_name": "Python 3",
   "language": "python",
   "name": "python3"
  },
  "language_info": {
   "codemirror_mode": {
    "name": "ipython",
    "version": 3
   },
   "file_extension": ".py",
   "mimetype": "text/x-python",
   "name": "python",
   "nbconvert_exporter": "python",
   "pygments_lexer": "ipython3",
   "version": "3.9.16"
  }
 },
 "nbformat": 4,
 "nbformat_minor": 2
}
